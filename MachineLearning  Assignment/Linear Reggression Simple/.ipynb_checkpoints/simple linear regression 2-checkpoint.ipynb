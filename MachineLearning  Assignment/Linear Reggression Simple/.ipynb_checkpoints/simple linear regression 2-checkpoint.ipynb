{
 "cells": [
  {
   "cell_type": "code",
   "execution_count": 2,
   "metadata": {},
   "outputs": [],
   "source": [
    "# importing the libraries\n",
    "import numpy as np\n",
    "import pandas as pd\n",
    "import matplotlib.pyplot as plt\n",
    "from sklearn.linear_model import LinearRegression\n",
    "from sklearn.metrics import mean_squared_error\n"
   ]
  },
  {
   "cell_type": "markdown",
   "metadata": {},
   "source": [
    "\n",
    "\n",
    "# DATA SET1"
   ]
  },
  {
   "cell_type": "code",
   "execution_count": 3,
   "metadata": {},
   "outputs": [],
   "source": [
    "# picking up the dataset\n",
    "data = pd.read_csv('salesads.csv')"
   ]
  },
  {
   "cell_type": "code",
   "execution_count": 4,
   "metadata": {},
   "outputs": [
    {
     "data": {
      "text/html": [
       "<div>\n",
       "<style scoped>\n",
       "    .dataframe tbody tr th:only-of-type {\n",
       "        vertical-align: middle;\n",
       "    }\n",
       "\n",
       "    .dataframe tbody tr th {\n",
       "        vertical-align: top;\n",
       "    }\n",
       "\n",
       "    .dataframe thead th {\n",
       "        text-align: right;\n",
       "    }\n",
       "</style>\n",
       "<table border=\"1\" class=\"dataframe\">\n",
       "  <thead>\n",
       "    <tr style=\"text-align: right;\">\n",
       "      <th></th>\n",
       "      <th>Online\\nStore</th>\n",
       "      <th>MonthlySales</th>\n",
       "      <th>AdvertisingOnlineindollars</th>\n",
       "    </tr>\n",
       "  </thead>\n",
       "  <tbody>\n",
       "    <tr>\n",
       "      <td>0</td>\n",
       "      <td>1</td>\n",
       "      <td>368</td>\n",
       "      <td>1.7</td>\n",
       "    </tr>\n",
       "    <tr>\n",
       "      <td>1</td>\n",
       "      <td>2</td>\n",
       "      <td>340</td>\n",
       "      <td>1.5</td>\n",
       "    </tr>\n",
       "    <tr>\n",
       "      <td>2</td>\n",
       "      <td>3</td>\n",
       "      <td>665</td>\n",
       "      <td>2.8</td>\n",
       "    </tr>\n",
       "    <tr>\n",
       "      <td>3</td>\n",
       "      <td>4</td>\n",
       "      <td>954</td>\n",
       "      <td>5.0</td>\n",
       "    </tr>\n",
       "    <tr>\n",
       "      <td>4</td>\n",
       "      <td>5</td>\n",
       "      <td>331</td>\n",
       "      <td>1.3</td>\n",
       "    </tr>\n",
       "    <tr>\n",
       "      <td>5</td>\n",
       "      <td>6</td>\n",
       "      <td>556</td>\n",
       "      <td>2.2</td>\n",
       "    </tr>\n",
       "    <tr>\n",
       "      <td>6</td>\n",
       "      <td>7</td>\n",
       "      <td>376</td>\n",
       "      <td>1.3</td>\n",
       "    </tr>\n",
       "  </tbody>\n",
       "</table>\n",
       "</div>"
      ],
      "text/plain": [
       "   Online\\nStore  MonthlySales  AdvertisingOnlineindollars\n",
       "0              1           368                         1.7\n",
       "1              2           340                         1.5\n",
       "2              3           665                         2.8\n",
       "3              4           954                         5.0\n",
       "4              5           331                         1.3\n",
       "5              6           556                         2.2\n",
       "6              7           376                         1.3"
      ]
     },
     "execution_count": 4,
     "metadata": {},
     "output_type": "execute_result"
    }
   ],
   "source": [
    "data"
   ]
  },
  {
   "cell_type": "code",
   "execution_count": 5,
   "metadata": {},
   "outputs": [],
   "source": [
    "X = data.MonthlySales \n",
    "Y = data.AdvertisingOnlineindollars\n"
   ]
  },
  {
   "cell_type": "code",
   "execution_count": 6,
   "metadata": {
    "scrolled": true
   },
   "outputs": [
    {
     "data": {
      "text/plain": [
       "Text(0, 0.5, 'Online Advertising in $ ')"
      ]
     },
     "execution_count": 6,
     "metadata": {},
     "output_type": "execute_result"
    },
    {
     "data": {
      "image/png": "[encoded data removed]",
      "text/plain": [
       "<Figure size 432x288 with 1 Axes>"
      ]
     },
     "metadata": {
      "needs_background": "light"
     },
     "output_type": "display_data"
    }
   ],
   "source": [
    "plt.scatter(X,Y,color='g')\n",
    "plt.title('E Commerce sales v/s Online Advertisings')\n",
    "plt.xlabel('Monthly Sales')\n",
    "plt.ylabel('Online Advertising in $ ')"
   ]
  },
  {
   "cell_type": "code",
   "execution_count": 7,
   "metadata": {},
   "outputs": [],
   "source": [
    "M = (Y.dot(X) - Y.mean()*X.sum()) / ( X.dot(X) - X.mean()* X.sum()  )\n",
    "c = ( Y.mean() * X.dot(X) - X.mean() * Y.dot(X)) / ( X.dot(X) - X.mean()* X.sum()  )"
   ]
  },
  {
   "cell_type": "code",
   "execution_count": 8,
   "metadata": {},
   "outputs": [
    {
     "data": {
      "image/png": "[encoded data removed]",
      "text/plain": [
       "<Figure size 432x288 with 1 Axes>"
      ]
     },
     "metadata": {
      "needs_background": "light"
     },
     "output_type": "display_data"
    }
   ],
   "source": [
    "Y_pred = M*X + c\n",
    "\n",
    "plt.scatter(X,Y,color='g', label='Scatter Plot')\n",
    "plt.title('E Commerce sales v/s Online Advertisings')\n",
    "plt.xlabel('Monthly Sales')\n",
    "plt.ylabel('Online Advertising in $ ')\n",
    "\n",
    "plt.plot(X,Y_pred,color='r',label = 'Regression Line')\n",
    "plt.legend()\n",
    "plt.show()\n"
   ]
  },
  {
   "cell_type": "markdown",
   "metadata": {},
   "source": [
    "Checking R^2 value"
   ]
  },
  {
   "cell_type": "code",
   "execution_count": 9,
   "metadata": {},
   "outputs": [
    {
     "name": "stdout",
     "output_type": "stream",
     "text": [
      "0.9612629035488398\n"
     ]
    }
   ],
   "source": [
    "# Finding the mean of X and Y\n",
    "mean_X = np.mean(X)\n",
    "mean_Y = np.mean(Y)\n",
    "#Total number of values \n",
    "m = len(X)\n",
    "\n",
    "ss_t = 0 #total sum of square\n",
    "ss_r = 0 #total sum of square of residuals\n",
    "for i in range(m):\n",
    "    Y_pred = c + M * X[i]\n",
    "    ss_t  += (Y[i] - mean_Y) ** 2\n",
    "    ss_r  += (Y[i] - Y_pred) ** 2\n",
    "r2 = 1 - (ss_r/ss_t)\n",
    "print(r2)"
   ]
  },
  {
   "cell_type": "markdown",
   "metadata": {},
   "source": [
    "# DATA SET 2"
   ]
  },
  {
   "cell_type": "code",
   "execution_count": 10,
   "metadata": {},
   "outputs": [
    {
     "name": "stdout",
     "output_type": "stream",
     "text": [
      "     Gender  Age Range  Head Size(cm^3)  Brain Weight(grams)\n",
      "0         1          1             4512                 1530\n",
      "1         1          1             3738                 1297\n",
      "2         1          1             4261                 1335\n",
      "3         1          1             3777                 1282\n",
      "4         1          1             4177                 1590\n",
      "..      ...        ...              ...                  ...\n",
      "232       2          2             3214                 1110\n",
      "233       2          2             3394                 1215\n",
      "234       2          2             3233                 1104\n",
      "235       2          2             3352                 1170\n",
      "236       2          2             3391                 1120\n",
      "\n",
      "[237 rows x 4 columns]\n"
     ]
    }
   ],
   "source": [
    "\n",
    "data = pd.read_csv('headbrain.csv')\n",
    "print(data)"
   ]
  },
  {
   "cell_type": "code",
   "execution_count": 11,
   "metadata": {},
   "outputs": [],
   "source": [
    "X = data['Head Size(cm^3)'].values\n",
    "Y = data['Brain Weight(grams)'].values"
   ]
  },
  {
   "cell_type": "code",
   "execution_count": 12,
   "metadata": {},
   "outputs": [
    {
     "data": {
      "text/plain": [
       "Text(0, 0.5, 'BrainSize ')"
      ]
     },
     "execution_count": 12,
     "metadata": {},
     "output_type": "execute_result"
    },
    {
     "data": {
      "image/png": "[encoded data removed]",
      "text/plain": [
       "<Figure size 432x288 with 1 Axes>"
      ]
     },
     "metadata": {
      "needs_background": "light"
     },
     "output_type": "display_data"
    }
   ],
   "source": [
    "plt.scatter(X,Y,color='g')\n",
    "plt.title('Brainsize and HeadSize')\n",
    "plt.xlabel('HeadSize')\n",
    "plt.ylabel('BrainSize ')"
   ]
  },
  {
   "cell_type": "code",
   "execution_count": 13,
   "metadata": {},
   "outputs": [],
   "source": [
    "M = (Y.dot(X) - Y.mean()*X.sum()) / ( X.dot(X) - X.mean()* X.sum()  )\n",
    "c = ( Y.mean() * X.dot(X) - X.mean() * Y.dot(X)) / ( X.dot(X) - X.mean()* X.sum()  )"
   ]
  },
  {
   "cell_type": "code",
   "execution_count": 14,
   "metadata": {},
   "outputs": [
    {
     "data": {
      "text/plain": [
       "0.2634293394894003"
      ]
     },
     "execution_count": 14,
     "metadata": {},
     "output_type": "execute_result"
    }
   ],
   "source": [
    "M"
   ]
  },
  {
   "cell_type": "code",
   "execution_count": 15,
   "metadata": {},
   "outputs": [
    {
     "data": {
      "text/plain": [
       "325.573421049456"
      ]
     },
     "execution_count": 15,
     "metadata": {},
     "output_type": "execute_result"
    }
   ],
   "source": [
    "c"
   ]
  },
  {
   "cell_type": "code",
   "execution_count": 14,
   "metadata": {},
   "outputs": [
    {
     "data": {
      "image/png": "[encoded data removed]",
      "text/plain": [
       "<Figure size 432x288 with 1 Axes>"
      ]
     },
     "metadata": {
      "needs_background": "light"
     },
     "output_type": "display_data"
    }
   ],
   "source": [
    "Y_pred = M*X + c\n",
    "\n",
    "plt.scatter(X,Y,color='g', label='Scatter Plot')\n",
    "plt.title('E Commerce sales v/s Online Advertisings')\n",
    "plt.xlabel('Monthly Sales')\n",
    "plt.ylabel('Online Advertising in $ ')\n",
    "\n",
    "plt.plot(X,Y_pred,color='r',label = 'Regression Line')\n",
    "plt.legend()\n",
    "plt.show()\n"
   ]
  },
  {
   "cell_type": "markdown",
   "metadata": {},
   "source": [
    "Finding R^2 value"
   ]
  },
  {
   "cell_type": "code",
   "execution_count": 15,
   "metadata": {},
   "outputs": [
    {
     "name": "stdout",
     "output_type": "stream",
     "text": [
      "0.6393117199570002\n"
     ]
    }
   ],
   "source": [
    "# Finding the mean of X and Y\n",
    "mean_X = np.mean(X)\n",
    "mean_Y = np.mean(Y)\n",
    "#Total number of values \n",
    "m = len(X)\n",
    "\n",
    "ss_t = 0 #total sum of square\n",
    "ss_r = 0 #total sum of square of residuals\n",
    "for i in range(m):\n",
    "    Y_pred = c + M * X[i]\n",
    "    ss_t  += (Y[i] - mean_Y) ** 2\n",
    "    ss_r  += (Y[i] - Y_pred) ** 2\n",
    "r2 = 1 - (ss_r/ss_t)\n",
    "print(r2)"
   ]
  },
  {
   "cell_type": "code",
   "execution_count": null,
   "metadata": {},
   "outputs": [],
   "source": []
  }
 ],
 "metadata": {
  "kernelspec": {
   "display_name": "Python 3",
   "language": "python",
   "name": "python3"
  },
  "language_info": {
   "codemirror_mode": {
    "name": "ipython",
    "version": 3
   },
   "file_extension": ".py",
   "mimetype": "text/x-python",
   "name": "python",
   "nbconvert_exporter": "python",
   "pygments_lexer": "ipython3",
   "version": "3.7.4"
  }
 },
 "nbformat": 4,
 "nbformat_minor": 2
}
