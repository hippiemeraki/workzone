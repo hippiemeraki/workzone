{
 "cells": [
  {
   "cell_type": "code",
   "execution_count": 1,
   "metadata": {},
   "outputs": [
    {
     "name": "stdout",
     "output_type": "stream",
     "text": [
      "Collecting PyMuPDF\n",
      "  Using cached https://files.pythonhosted.org/packages/df/79/92ae8f9a618a801e4a00e97a78d56fccc0bfecd2fe21906b112168630a12/PyMuPDF-1.16.10-cp37-cp37m-manylinux2010_x86_64.whl\n",
      "Installing collected packages: PyMuPDF\n",
      "Successfully installed PyMuPDF-1.16.10\n"
     ]
    }
   ],
   "source": [
    "!pip install PyMuPDF"
   ]
  },
  {
   "cell_type": "code",
   "execution_count": 9,
   "metadata": {},
   "outputs": [],
   "source": [
    "import fitz"
   ]
  },
  {
   "cell_type": "code",
   "execution_count": 10,
   "metadata": {},
   "outputs": [
    {
     "data": {
      "text/plain": [
       "21"
      ]
     },
     "execution_count": 10,
     "metadata": {},
     "output_type": "execute_result"
    }
   ],
   "source": [
    "#how to get number of pages\n",
    "\n",
    "file = fitz.open(\"VWA_MY17_Golf_Family_Digital.pdf\")\n",
    "page = len(file)\n",
    "page"
   ]
  },
  {
   "cell_type": "code",
   "execution_count": 11,
   "metadata": {},
   "outputs": [],
   "source": [
    "for i in range(page):\n",
    "    for image in file.getPageImageList(i):\n",
    "        j=0\n",
    "        customxref=image[0]\n",
    "        pic=fitz.Pixmap(file, customxref)\n",
    "        finalpic=fitz.Pixmap(fitz.csRGB,pic)\n",
    "        finalpic.writePNG(str(i)+\"_\"+str(j)+\".png\")\n",
    "        pic=None\n",
    "        finalpic=None\n",
    "        j=j+1"
   ]
  },
  {
   "cell_type": "code",
   "execution_count": 13,
   "metadata": {},
   "outputs": [
    {
     "data": {
      "text/plain": [
       "5"
      ]
     },
     "execution_count": 13,
     "metadata": {},
     "output_type": "execute_result"
    }
   ],
   "source": [
    "\n",
    "file2 = fitz.open(\"pdf.pdf\")\n",
    "page = len(file2)\n",
    "page"
   ]
  },
  {
   "cell_type": "code",
   "execution_count": 14,
   "metadata": {},
   "outputs": [],
   "source": [
    "for i in range(page):\n",
    "    for image in file2.getPageImageList(i):\n",
    "        j=0\n",
    "        customxref=image[0]\n",
    "        pic=fitz.Pixmap(file2, customxref)\n",
    "        finalpic=fitz.Pixmap(fitz.csRGB,pic)\n",
    "        finalpic.writePNG(str(i)+\"_\"+str(j)+\".png\")\n",
    "        pic=None\n",
    "        finalpic=None\n",
    "        j=j+1"
   ]
  },
  {
   "cell_type": "code",
   "execution_count": null,
   "metadata": {},
   "outputs": [],
   "source": []
  }
 ],
 "metadata": {
  "kernelspec": {
   "display_name": "Python 3",
   "language": "python",
   "name": "python3"
  },
  "language_info": {
   "codemirror_mode": {
    "name": "ipython",
    "version": 3
   },
   "file_extension": ".py",
   "mimetype": "text/x-python",
   "name": "python",
   "nbconvert_exporter": "python",
   "pygments_lexer": "ipython3",
   "version": "3.7.4"
  }
 },
 "nbformat": 4,
 "nbformat_minor": 2
}
